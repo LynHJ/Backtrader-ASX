{
 "cells": [
  {
   "cell_type": "markdown",
   "id": "4fc95387",
   "metadata": {},
   "source": [
    "# Backtrader For ASX Mining Stocks "
   ]
  },
  {
   "cell_type": "markdown",
   "id": "15770d24",
   "metadata": {},
   "source": [
    "### Target Stocks And Timeframes"
   ]
  },
  {
   "cell_type": "code",
   "execution_count": 3,
   "id": "e6f8711f",
   "metadata": {},
   "outputs": [
    {
     "name": "stdout",
     "output_type": "stream",
     "text": [
      "[*********************100%***********************]  1 of 1 completed\n",
      "[*********************100%***********************]  1 of 1 completed\n",
      "[*********************100%***********************]  1 of 1 completed\n"
     ]
    }
   ],
   "source": [
    "# Dependency\n",
    "\n",
    "import matplotlib.pyplot as plt\n",
    "import yfinance as yf\n",
    "import pandas as pd\n",
    "from pandas_datareader import data\n",
    "from datetime import datetime as dt\n",
    "import numpy as np\n",
    "import backtrader as bt\n",
    "\n",
    "\n",
    "\n",
    "# Use 20 years as the time period for getting best SMA dyas to create a trading strategy\n",
    "\n",
    "start_date1 = dt(2000,1,1)\n",
    "\n",
    "end_date1 = dt(2019,12,31)\n",
    "\n",
    "# testing the strategy by using 2 years known period \n",
    "\n",
    "start_date2 = dt(2020,1,1)\n",
    "\n",
    "end_date2 = dt(2022,9,21)\n",
    "\n",
    "\n",
    "# Use yfinance to extract data\n",
    "\n",
    "yf.pdr_override()\n",
    "\n",
    "# Target the 3 large mining companies in ASX\n",
    "\n",
    "targets = ['RIO.AX','FMG.AX','BHP.AX']\n",
    "\n",
    "#Transform data to csv files\n",
    "\n",
    "for i in range(0,len(targets)):    \n",
    "\n",
    "    stock = data.get_data_yahoo([targets[i]], start_date1, end_date2)\n",
    "\n",
    "    path = f'InputData/{targets[i]}.csv'\n",
    "\n",
    "    record = stock.to_csv(path)\n"
   ]
  },
  {
   "cell_type": "markdown",
   "id": "b13712ec",
   "metadata": {},
   "source": [
    "### Maximize The Earning"
   ]
  },
  {
   "cell_type": "code",
   "execution_count": 4,
   "id": "3c3ec9c9",
   "metadata": {},
   "outputs": [],
   "source": [
    "\n",
    "# Use for loop to get the best match of short SMA and long SMA \n",
    "\n",
    "rangeShort=np.arange(5,81,1)\n",
    "\n",
    "rangeLong=np.arange(100,120,1)\n",
    "\n",
    "\n",
    "bestMatch=[] \n",
    "\n",
    "for u in range(0,len(targets)):  \n",
    "\n",
    "    testBestPeriod=[] \n",
    "\n",
    "    for i in rangeShort:\n",
    "\n",
    "        for j in rangeLong:\n",
    "\n",
    "            class SMAStrategy(bt.Strategy):\n",
    "\n",
    "                # Initiate the backtest \n",
    "\n",
    "                def __init__(self):\n",
    "\n",
    "                    self.dataclose = self.data0.close\n",
    "\n",
    "                    self.order = None\n",
    "\n",
    "                    self.buyprice = None\n",
    "                    \n",
    "                    self.buycomm = None\n",
    "                \n",
    "                    self.smaS = bt.indicators.SMA(self.data0,period=i)\n",
    "                    self.smaL = bt.indicators.SMA(self.data0,period=j)\n",
    "                    \n",
    "                    \n",
    "\n",
    "                def next(self):\n",
    "                    if not self.position:\n",
    "                        if self.smaS[0]>self.smaL[0] :\n",
    "                            self.buy()\n",
    "                    else:\n",
    "                        if self.smaS[0]<self.smaL[0] :    \n",
    "                                self.close()\n",
    "\n",
    "            cerebro=bt.Cerebro()\n",
    "\n",
    "            df=pd.read_csv(f'InputData/{targets[u]}.csv',header=0, index_col='Date', parse_dates=['Date'])\n",
    "\n",
    "            testStock=bt.feeds.PandasData(dataname=df,fromdate=start_date1, todate=end_date1,timeframe=bt.TimeFrame.Days)\n",
    "\n",
    "            cerebro.adddata(testStock)\n",
    "\n",
    "            cerebro.addstrategy(SMAStrategy)\n",
    "\n",
    "            cerebro.broker.setcash(10000)\n",
    "\n",
    "            cerebro.broker.setcommission(commission=0.002)\n",
    "\n",
    "            cerebro.addsizer(bt.sizers.PercentSizer, percents=90) # Use 90% cash for trading\n",
    "            \n",
    "            result = cerebro.run()\n",
    "\n",
    "            portvalue = cerebro.broker.getvalue()\n",
    "\n",
    "            match={'shortPeriod':i,'longPeriod':j,'finalValue':portvalue}\n",
    "\n",
    "            testBestPeriod.append(match)\n",
    "\n",
    "    max_value = max(testBestPeriod,key=lambda x:x['finalValue'])\n",
    "\n",
    "    bestShort=max_value['shortPeriod']\n",
    "\n",
    "    bestLong=max_value['longPeriod']\n",
    "\n",
    "    class SMAStrategy(bt.Strategy):\n",
    "\n",
    "        def __init__(self):\n",
    "\n",
    "            self.dataclose = self.data0.close\n",
    "\n",
    "            self.order = None\n",
    "\n",
    "            self.buyprice = None\n",
    "\n",
    "            self.buycomm = None\n",
    "        \n",
    "            self.smaS = bt.indicators.SMA(self.data0,period=bestShort)\n",
    "\n",
    "            self.smaL = bt.indicators.SMA(self.data0,period=bestLong)\n",
    "            \n",
    "            \n",
    "\n",
    "        def next(self):\n",
    "\n",
    "            if not self.position:\n",
    "\n",
    "                if self.smaS[0]>self.smaL[0] :\n",
    "\n",
    "                    self.buy()\n",
    "            else:\n",
    "                if self.smaS[0]<self.smaL[0] : \n",
    "\n",
    "                    self.close()\n",
    "    \n",
    "    cerebro=bt.Cerebro()\n",
    "\n",
    "    df=pd.read_csv(f'InputData/{targets[u]}.csv',header=0, index_col='Date', parse_dates=['Date'])\n",
    "\n",
    "    testStock=bt.feeds.PandasData(dataname=df,fromdate=start_date2, todate=end_date2,timeframe=bt.TimeFrame.Days)\n",
    "\n",
    "    cerebro.adddata(testStock)\n",
    "\n",
    "    cerebro.addstrategy(SMAStrategy)\n",
    "\n",
    "    cerebro.broker.setcash(10000)\n",
    "\n",
    "    cerebro.broker.setcommission(commission=0.002)\n",
    "\n",
    "    cerebro.addsizer(bt.sizers.PercentSizer, percents=90) # Use 90% cash for trading\n",
    "\n",
    "    cerebro.run()\n",
    "\n",
    "    result = cerebro.broker.getvalue()\n",
    "\n",
    "    bestMatch.append({'Stock':targets[u],'shortPeriod':bestShort,'longPeriod':bestLong,'finalValue':round(result,2),'ROI':f'{round(((result-10000)/10000*100),2)}%'})\n",
    "\n",
    "    plt.rcParams['figure.figsize'] = [15, 12]\n",
    "\n",
    "    plt.rcParams.update({'font.size': 12}) \n",
    "\n",
    "    img=cerebro.plot(iplot=False)\n",
    "\n",
    "    img[0][0].savefig(f'OutputData/{targets[u]}.png')\n"
   ]
  },
  {
   "cell_type": "markdown",
   "id": "b0dea8ad",
   "metadata": {},
   "source": [
    "### Result"
   ]
  },
  {
   "cell_type": "code",
   "execution_count": null,
   "id": "1e799eb7",
   "metadata": {},
   "outputs": [
    {
     "name": "stdout",
     "output_type": "stream",
     "text": [
      "{'Stock': {'RIO.AX'}, 'shortPeriod': 62, 'longPeriod': 104, 'finalValue': 9040.009566000044, 'ROI': '-9.6%'}\n",
      "{'Stock': {'FMG.AX'}, 'shortPeriod': 30, 'longPeriod': 109, 'finalValue': 12176.38667665158, 'ROI': '21.76%'}\n",
      "{'Stock': {'BHP.AX'}, 'shortPeriod': 34, 'longPeriod': 101, 'finalValue': 9657.471591106207, 'ROI': '-3.43%'}\n"
     ]
    }
   ],
   "source": [
    "print(bestMatch[0])\n",
    "\n",
    "print(bestMatch[1])\n",
    "\n",
    "print(bestMatch[2])"
   ]
  },
  {
   "cell_type": "code",
   "execution_count": null,
   "id": "3c0d27f1",
   "metadata": {},
   "outputs": [],
   "source": [
    "Result = pd.DataFrame(bestMatch)\n",
    "\n",
    "Result\n",
    "\n",
    "Result.to_csv('OutputData/ResultMiningROI.csv')"
   ]
  }
 ],
 "metadata": {
  "kernelspec": {
   "display_name": "Python 3.7.7 ('PythonData')",
   "language": "python",
   "name": "python3"
  },
  "language_info": {
   "codemirror_mode": {
    "name": "ipython",
    "version": 3
   },
   "file_extension": ".py",
   "mimetype": "text/x-python",
   "name": "python",
   "nbconvert_exporter": "python",
   "pygments_lexer": "ipython3",
   "version": "3.7.13"
  },
  "vscode": {
   "interpreter": {
    "hash": "c9b0bf6a235527dee47d8aa1349c2e3aa22b2d4d85c71094e9bb0f838d643ae3"
   }
  }
 },
 "nbformat": 4,
 "nbformat_minor": 5
}
