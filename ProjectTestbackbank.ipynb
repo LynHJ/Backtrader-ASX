{
 "cells": [
  {
   "cell_type": "code",
   "execution_count": 1,
   "id": "e6f8711f",
   "metadata": {},
   "outputs": [
    {
     "name": "stdout",
     "output_type": "stream",
     "text": [
      "[*********************100%***********************]  1 of 1 completed\n",
      "[*********************100%***********************]  1 of 1 completed\n",
      "[*********************100%***********************]  1 of 1 completed\n",
      "[*********************100%***********************]  1 of 1 completed\n"
     ]
    }
   ],
   "source": [
    "%matplotlib inline\n",
    "import matplotlib.pyplot as plt\n",
    "import yfinance as yf\n",
    "import pandas as pd\n",
    "from pandas_datareader import data\n",
    "from datetime import datetime as dt\n",
    "import numpy as np\n",
    "import backtrader as bt\n",
    "\n",
    "\n",
    "\n",
    "\n",
    "start_date1 = dt(2000,1,1)\n",
    "\n",
    "end_date1 = dt(2019,12,31)\n",
    "\n",
    "\n",
    "start_date2 = dt(2020,1,1)\n",
    "\n",
    "end_date2 = dt(2022,9,21)\n",
    "\n",
    "\n",
    "yf.pdr_override()\n",
    "\n",
    "targets = ['NAB.AX','CBA.AX','ANZ.AX','WBC.AX']\n",
    "\n",
    "\n",
    "\n",
    "for i in range(0,len(targets)):    \n",
    "\n",
    "    stock = data.get_data_yahoo([targets[i]], start_date1, end_date2)\n",
    "\n",
    "    path = f'InputData/{targets[i]}.csv'\n",
    "\n",
    "    record = stock.to_csv(path)\n",
    "\n",
    "\n"
   ]
  },
  {
   "cell_type": "code",
   "execution_count": 2,
   "id": "3c3ec9c9",
   "metadata": {},
   "outputs": [],
   "source": [
    "rangeShort=np.arange(5,81,1)\n",
    "rangeLong=np.arange(100,120,1)\n",
    "log=[]\n",
    "\n",
    "\n",
    "for u in range(0,len(targets)):  \n",
    "    testBestPeriod=[]  \n",
    "    for i in rangeShort:\n",
    "        for j in rangeLong:\n",
    "\n",
    "            class SMAStrategy(bt.Strategy):\n",
    "                def __init__(self):\n",
    "                    self.dataclose = self.data0.close\n",
    "                    self.order = None\n",
    "                    self.buyprice = None\n",
    "                    self.buycomm = None\n",
    "                \n",
    "                    self.smaS = bt.indicators.SMA(self.data0,period=i)\n",
    "                    self.smaL = bt.indicators.SMA(self.data0,period=j)\n",
    "                    \n",
    "                    \n",
    "\n",
    "                def next(self):\n",
    "                    if not self.position:\n",
    "                        if self.smaS[0]>self.smaL[0] :\n",
    "                            self.buy()\n",
    "                    else:\n",
    "                        if self.smaS[0]<self.smaL[0] :    \n",
    "                                self.close()\n",
    "\n",
    "            cerebro=bt.Cerebro()\n",
    "            df=pd.read_csv(f'InputData/{targets[u]}.csv',header=0, index_col='Date', parse_dates=['Date'])\n",
    "            testStock=bt.feeds.PandasData(dataname=df,fromdate=start_date1, todate=end_date1,timeframe=bt.TimeFrame.Days)\n",
    "            cerebro.adddata(testStock)\n",
    "            cerebro.addstrategy(SMAStrategy)\n",
    "            cerebro.broker.setcash(10000)\n",
    "            cerebro.broker.setcommission(commission=0.005)\n",
    "\n",
    "            cerebro.addsizer(bt.sizers.PercentSizer, percents=90)\n",
    "            result = cerebro.run()\n",
    "\n",
    "            portvalue = cerebro.broker.getvalue()\n",
    "\n",
    "            match={'shortPeriod':i,'longPeriod':j,'finalValue':portvalue}\n",
    "\n",
    "            testBestPeriod.append(match)\n",
    "\n",
    "    max_value = max(testBestPeriod,key=lambda x:x['finalValue'])\n",
    "\n",
    "    log.append({'Stock':targets[u],'Result':max_value})\n",
    "\n",
    "    bestShort=max_value['shortPeriod']\n",
    "\n",
    "    bestLong=max_value['longPeriod']\n",
    "\n",
    "    class SMAStrategy(bt.Strategy):\n",
    "        def __init__(self):\n",
    "            self.dataclose = self.data0.close\n",
    "            self.order = None\n",
    "            self.buyprice = None\n",
    "            self.buycomm = None\n",
    "        \n",
    "            self.smaS = bt.indicators.SMA(self.data0,period=bestShort)\n",
    "            self.smaL = bt.indicators.SMA(self.data0,period=bestLong)\n",
    "            \n",
    "            \n",
    "\n",
    "        def next(self):\n",
    "            if not self.position:\n",
    "                if self.smaS[0]>self.smaL[0] :\n",
    "                    self.buy()\n",
    "            else:\n",
    "                if self.smaS[0]<self.smaL[0] :    \n",
    "                        self.close()\n",
    "    \n",
    "    cerebro=bt.Cerebro()\n",
    "    df=pd.read_csv(f'InputData/{targets[u]}.csv',header=0, index_col='Date', parse_dates=['Date'])\n",
    "    testStock=bt.feeds.PandasData(dataname=df,fromdate=start_date2, todate=end_date2,timeframe=bt.TimeFrame.Days)\n",
    "    cerebro.adddata(testStock)\n",
    "    cerebro.addstrategy(SMAStrategy)\n",
    "    cerebro.broker.setcash(10000)\n",
    "    cerebro.broker.setcommission(commission=0.005)\n",
    "\n",
    "    cerebro.addsizer(bt.sizers.PercentSizer, percents=90)\n",
    "    cerebro.run()\n",
    "\n",
    "    portvalue = cerebro.broker.getvalue()\n",
    "\n",
    "    plt.rcParams['figure.figsize'] = [15, 12]\n",
    "    plt.rcParams.update({'font.size': 12}) \n",
    "    img=cerebro.plot(iplot=False)\n",
    "    img[0][0].savefig(f'OutputData/{targets[u]}.png')\n",
    "\n",
    "\n",
    "\n"
   ]
  },
  {
   "cell_type": "markdown",
   "id": "25850d83",
   "metadata": {},
   "source": []
  },
  {
   "cell_type": "code",
   "execution_count": 3,
   "id": "1e799eb7",
   "metadata": {},
   "outputs": [
    {
     "name": "stdout",
     "output_type": "stream",
     "text": [
      "[{'Stock': 'NAB.AX', 'Result': {'shortPeriod': 60, 'longPeriod': 119, 'finalValue': 7655.215745396964}}, {'Stock': 'CBA.AX', 'Result': {'shortPeriod': 47, 'longPeriod': 101, 'finalValue': 21203.74267568459}}, {'Stock': 'ANZ.AX', 'Result': {'shortPeriod': 78, 'longPeriod': 116, 'finalValue': 24420.627948957987}}, {'Stock': 'WBC.AX', 'Result': {'shortPeriod': 64, 'longPeriod': 119, 'finalValue': 9018.28813250125}}]\n"
     ]
    }
   ],
   "source": [
    "print(log)"
   ]
  },
  {
   "cell_type": "markdown",
   "id": "c089c268",
   "metadata": {},
   "source": []
  },
  {
   "cell_type": "markdown",
   "id": "70009c90",
   "metadata": {},
   "source": []
  }
 ],
 "metadata": {
  "kernelspec": {
   "display_name": "Python 3 (ipykernel)",
   "language": "python",
   "name": "python3"
  },
  "language_info": {
   "codemirror_mode": {
    "name": "ipython",
    "version": 3
   },
   "file_extension": ".py",
   "mimetype": "text/x-python",
   "name": "python",
   "nbconvert_exporter": "python",
   "pygments_lexer": "ipython3",
   "version": "3.7.7"
  },
  "vscode": {
   "interpreter": {
    "hash": "c9b0bf6a235527dee47d8aa1349c2e3aa22b2d4d85c71094e9bb0f838d643ae3"
   }
  }
 },
 "nbformat": 4,
 "nbformat_minor": 5
}
